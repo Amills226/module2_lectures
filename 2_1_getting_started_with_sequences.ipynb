{
  "nbformat": 4,
  "nbformat_minor": 0,
  "metadata": {
    "anaconda-cloud": {},
    "kernelspec": {
      "display_name": "Python 3",
      "language": "python",
      "name": "python3"
    },
    "language_info": {
      "codemirror_mode": {
        "name": "ipython",
        "version": 3
      },
      "file_extension": ".py",
      "mimetype": "text/x-python",
      "name": "python",
      "nbconvert_exporter": "python",
      "pygments_lexer": "ipython3",
      "version": "3.7.2"
    },
    "nbpresent": {
      "slides": {
        "537f6eb2-2283-47b1-9bc9-6c9ceccf79cb": {
          "id": "537f6eb2-2283-47b1-9bc9-6c9ceccf79cb",
          "prev": null,
          "regions": {
            "8bdbe3ed-17f2-4d1a-b1ac-5dd3c02f9a2f": {
              "attrs": {
                "height": 1,
                "width": 1,
                "x": 0,
                "y": 0
              },
              "content": {
                "cell": "85d3ea25-5fc1-40ca-afc2-09a50c7acd30",
                "part": "source"
              },
              "id": "8bdbe3ed-17f2-4d1a-b1ac-5dd3c02f9a2f"
            }
          }
        }
      },
      "themes": {}
    },
    "colab": {
      "name": "2_1_getting_started_with_sequences.ipynb",
      "provenance": [],
      "include_colab_link": true
    }
  },
  "cells": [
    {
      "cell_type": "markdown",
      "metadata": {
        "id": "view-in-github",
        "colab_type": "text"
      },
      "source": [
        "<a href=\"https://colab.research.google.com/github/Amills226/module2_lectures/blob/master/2_1_getting_started_with_sequences.ipynb\" target=\"_parent\"><img src=\"https://colab.research.google.com/assets/colab-badge.svg\" alt=\"Open In Colab\"/></a>"
      ]
    },
    {
      "cell_type": "markdown",
      "metadata": {
        "nbpresent": {
          "id": "85d3ea25-5fc1-40ca-afc2-09a50c7acd30"
        },
        "id": "a0TbBH4Mwd_4",
        "colab_type": "text"
      },
      "source": [
        "# Getting Started with Sequential Data in Python \n",
        "\n",
        "## Objectives\n",
        "\n",
        "1. Understand operations on sequences\n",
        "2. Access data from a sequences using an index\n",
        "3. Access a portion of a sequence using slicing"
      ]
    },
    {
      "cell_type": "markdown",
      "metadata": {
        "nbpresent": {
          "id": "5d68486b-170c-4af6-9e81-502a4aa8e103"
        },
        "id": "-25zhwy1wd_8",
        "colab_type": "text"
      },
      "source": [
        "## Three data types\n",
        "\n",
        "* List\n",
        "* String\n",
        "* Tuple"
      ]
    },
    {
      "cell_type": "code",
      "metadata": {
        "nbpresent": {
          "id": "9fa0ccff-0e47-4836-93a7-be2823b34d88"
        },
        "id": "qAxBpuLvwd_-",
        "colab_type": "code",
        "colab": {
          "base_uri": "https://localhost:8080/",
          "height": 34
        },
        "outputId": "4aa1aeba-6a14-4ff1-c931-ad153b50ad32"
      },
      "source": [
        "L = [1,2,3]\n",
        "type(L)"
      ],
      "execution_count": 1,
      "outputs": [
        {
          "output_type": "execute_result",
          "data": {
            "text/plain": [
              "list"
            ]
          },
          "metadata": {
            "tags": []
          },
          "execution_count": 1
        }
      ]
    },
    {
      "cell_type": "code",
      "metadata": {
        "nbpresent": {
          "id": "8c47a074-41c2-45d7-8153-ed191ba2ea69"
        },
        "id": "2b5gQz4SweAG",
        "colab_type": "code",
        "colab": {
          "base_uri": "https://localhost:8080/",
          "height": 34
        },
        "outputId": "2c687efc-a203-4db4-a3aa-423c761fef24"
      },
      "source": [
        "s = \"Bob\"\n",
        "type(s)"
      ],
      "execution_count": 2,
      "outputs": [
        {
          "output_type": "execute_result",
          "data": {
            "text/plain": [
              "str"
            ]
          },
          "metadata": {
            "tags": []
          },
          "execution_count": 2
        }
      ]
    },
    {
      "cell_type": "code",
      "metadata": {
        "nbpresent": {
          "id": "829326d3-62aa-466b-9e8c-89b5488fa040"
        },
        "id": "eM_PanLKweAP",
        "colab_type": "code",
        "colab": {
          "base_uri": "https://localhost:8080/",
          "height": 34
        },
        "outputId": "5ec32597-b8cf-44fe-9c17-7ca9bf2caca3"
      },
      "source": [
        "tup = (1,2,3)\n",
        "type(tup)"
      ],
      "execution_count": 3,
      "outputs": [
        {
          "output_type": "execute_result",
          "data": {
            "text/plain": [
              "tuple"
            ]
          },
          "metadata": {
            "tags": []
          },
          "execution_count": 3
        }
      ]
    },
    {
      "cell_type": "markdown",
      "metadata": {
        "nbpresent": {
          "id": "f72c9dee-71c1-4dbb-af8c-09a1aaacc026"
        },
        "id": "rCnuhFYfweAW",
        "colab_type": "text"
      },
      "source": [
        "## More about indexing\n",
        "\n",
        "<img src=\"https://github.com/yardsale8/STAT489/blob/master/img/string_index.png?raw=true\" width=\"500\">"
      ]
    },
    {
      "cell_type": "code",
      "metadata": {
        "nbpresent": {
          "id": "6124e225-f1e5-4579-8112-6be4bc9cc02b"
        },
        "id": "-EWwG-3mweAX",
        "colab_type": "code",
        "colab": {
          "base_uri": "https://localhost:8080/",
          "height": 35
        },
        "outputId": "917d95d2-9966-4746-ec43-37cb913f9695"
      },
      "source": [
        "s = \"Hello Bob\"\n",
        "s[3]"
      ],
      "execution_count": 4,
      "outputs": [
        {
          "output_type": "execute_result",
          "data": {
            "application/vnd.google.colaboratory.intrinsic+json": {
              "type": "string"
            },
            "text/plain": [
              "'l'"
            ]
          },
          "metadata": {
            "tags": []
          },
          "execution_count": 4
        }
      ]
    },
    {
      "cell_type": "code",
      "metadata": {
        "nbpresent": {
          "id": "b99289df-afbb-4914-928b-385a9c6f696b"
        },
        "id": "4zvfLu5EweAg",
        "colab_type": "code",
        "colab": {
          "base_uri": "https://localhost:8080/",
          "height": 35
        },
        "outputId": "a5b97cd5-11c9-4581-d191-ec51e667b5af"
      },
      "source": [
        "s[-2]"
      ],
      "execution_count": 5,
      "outputs": [
        {
          "output_type": "execute_result",
          "data": {
            "application/vnd.google.colaboratory.intrinsic+json": {
              "type": "string"
            },
            "text/plain": [
              "'o'"
            ]
          },
          "metadata": {
            "tags": []
          },
          "execution_count": 5
        }
      ]
    },
    {
      "cell_type": "markdown",
      "metadata": {
        "nbpresent": {
          "id": "a587853a-2300-4e6a-b904-f3acefce323e"
        },
        "id": "uzhO2Ut_weAp",
        "colab_type": "text"
      },
      "source": [
        "<img src=\"https://github.com/yardsale8/STAT489/blob/master/img/list_index.png?raw=true\" width = \"400\">"
      ]
    },
    {
      "cell_type": "code",
      "metadata": {
        "nbpresent": {
          "id": "526df420-a3ea-4655-beb1-d63539acccfd"
        },
        "id": "Hzp_OG2IweAq",
        "colab_type": "code",
        "colab": {
          "base_uri": "https://localhost:8080/",
          "height": 35
        },
        "outputId": "2ddf33bb-7c18-4aca-db27-74aa67ccc29f"
      },
      "source": [
        "L = ['A', 'B', 'C', 'D', 'F']\n",
        "L[0]"
      ],
      "execution_count": 6,
      "outputs": [
        {
          "output_type": "execute_result",
          "data": {
            "application/vnd.google.colaboratory.intrinsic+json": {
              "type": "string"
            },
            "text/plain": [
              "'A'"
            ]
          },
          "metadata": {
            "tags": []
          },
          "execution_count": 6
        }
      ]
    },
    {
      "cell_type": "code",
      "metadata": {
        "nbpresent": {
          "id": "2fa61f4c-7833-4b56-b0aa-3137266e44f1"
        },
        "id": "ziW_EvtzweAz",
        "colab_type": "code",
        "colab": {
          "base_uri": "https://localhost:8080/",
          "height": 35
        },
        "outputId": "56457fee-17d7-4927-c988-9967a11399a1"
      },
      "source": [
        "L[-4]\n"
      ],
      "execution_count": 7,
      "outputs": [
        {
          "output_type": "execute_result",
          "data": {
            "application/vnd.google.colaboratory.intrinsic+json": {
              "type": "string"
            },
            "text/plain": [
              "'B'"
            ]
          },
          "metadata": {
            "tags": []
          },
          "execution_count": 7
        }
      ]
    },
    {
      "cell_type": "markdown",
      "metadata": {
        "nbpresent": {
          "id": "8a26922f-c791-4f46-b470-99bb0b55470e"
        },
        "id": "KpUgNCW6weA6",
        "colab_type": "text"
      },
      "source": [
        "## Slicing\n",
        "<img src=\"https://github.com/yardsale8/STAT489/blob/master/img/string_index.png?raw=true\" width=\"500\">"
      ]
    },
    {
      "cell_type": "code",
      "metadata": {
        "nbpresent": {
          "id": "6f3a4be6-97bd-4b2b-b92b-66fd425a2d5c"
        },
        "id": "wjVnhGrpweA7",
        "colab_type": "code",
        "colab": {
          "base_uri": "https://localhost:8080/",
          "height": 35
        },
        "outputId": "4a4efa5f-4e0f-4a2c-9a55-63c43ce14791"
      },
      "source": [
        "s[1:7]"
      ],
      "execution_count": 8,
      "outputs": [
        {
          "output_type": "execute_result",
          "data": {
            "application/vnd.google.colaboratory.intrinsic+json": {
              "type": "string"
            },
            "text/plain": [
              "'ello B'"
            ]
          },
          "metadata": {
            "tags": []
          },
          "execution_count": 8
        }
      ]
    },
    {
      "cell_type": "code",
      "metadata": {
        "nbpresent": {
          "id": "79e4173e-7e0a-4ea0-952d-2860c0a34b3a"
        },
        "id": "qUw-lydCweBB",
        "colab_type": "code",
        "colab": {
          "base_uri": "https://localhost:8080/",
          "height": 35
        },
        "outputId": "80b2522e-8825-43ec-ae56-db919c1f0f7b"
      },
      "source": [
        "s[:4]"
      ],
      "execution_count": 9,
      "outputs": [
        {
          "output_type": "execute_result",
          "data": {
            "application/vnd.google.colaboratory.intrinsic+json": {
              "type": "string"
            },
            "text/plain": [
              "'Hell'"
            ]
          },
          "metadata": {
            "tags": []
          },
          "execution_count": 9
        }
      ]
    },
    {
      "cell_type": "code",
      "metadata": {
        "nbpresent": {
          "id": "b75ee088-04a3-4a42-b3b2-26d9951d1143"
        },
        "id": "YKzVDkZjweBI",
        "colab_type": "code",
        "colab": {
          "base_uri": "https://localhost:8080/",
          "height": 35
        },
        "outputId": "7ba3a1e5-aad2-444c-c1a7-8b032535ca8a"
      },
      "source": [
        "s[2:]"
      ],
      "execution_count": 10,
      "outputs": [
        {
          "output_type": "execute_result",
          "data": {
            "application/vnd.google.colaboratory.intrinsic+json": {
              "type": "string"
            },
            "text/plain": [
              "'llo Bob'"
            ]
          },
          "metadata": {
            "tags": []
          },
          "execution_count": 10
        }
      ]
    },
    {
      "cell_type": "code",
      "metadata": {
        "nbpresent": {
          "id": "2244f080-2f6d-40a5-b9ad-2e1a0f8a2542"
        },
        "id": "pI7ttb0lweBN",
        "colab_type": "code",
        "colab": {
          "base_uri": "https://localhost:8080/",
          "height": 35
        },
        "outputId": "30534960-90b5-422f-b71b-0c1675691004"
      },
      "source": [
        "s[:]"
      ],
      "execution_count": 11,
      "outputs": [
        {
          "output_type": "execute_result",
          "data": {
            "application/vnd.google.colaboratory.intrinsic+json": {
              "type": "string"
            },
            "text/plain": [
              "'Hello Bob'"
            ]
          },
          "metadata": {
            "tags": []
          },
          "execution_count": 11
        }
      ]
    },
    {
      "cell_type": "code",
      "metadata": {
        "nbpresent": {
          "id": "38563f2f-ef48-4da2-aa8c-2560756f6d2c"
        },
        "id": "KuWq6z9EweBU",
        "colab_type": "code",
        "colab": {
          "base_uri": "https://localhost:8080/",
          "height": 35
        },
        "outputId": "36b44a64-9663-44f8-94a2-8be9f73a4a08"
      },
      "source": [
        "s[1::2]"
      ],
      "execution_count": 15,
      "outputs": [
        {
          "output_type": "execute_result",
          "data": {
            "application/vnd.google.colaboratory.intrinsic+json": {
              "type": "string"
            },
            "text/plain": [
              "'el o'"
            ]
          },
          "metadata": {
            "tags": []
          },
          "execution_count": 15
        }
      ]
    },
    {
      "cell_type": "markdown",
      "metadata": {
        "nbpresent": {
          "id": "ebb436ea-df24-43b9-8815-75f5b3a607fb"
        },
        "id": "aVQMV3w4weBb",
        "colab_type": "text"
      },
      "source": [
        "## Slicing works for all sequences"
      ]
    },
    {
      "cell_type": "code",
      "metadata": {
        "nbpresent": {
          "id": "90399bcb-86eb-4598-af31-08f8203fd418"
        },
        "id": "S2ed1I6ZweBc",
        "colab_type": "code",
        "colab": {
          "base_uri": "https://localhost:8080/",
          "height": 34
        },
        "outputId": "74bad00a-1cfb-41a0-a6c8-d1ab10ba09bc"
      },
      "source": [
        "L[1:7]"
      ],
      "execution_count": 16,
      "outputs": [
        {
          "output_type": "execute_result",
          "data": {
            "text/plain": [
              "['B', 'C', 'D', 'F']"
            ]
          },
          "metadata": {
            "tags": []
          },
          "execution_count": 16
        }
      ]
    },
    {
      "cell_type": "code",
      "metadata": {
        "nbpresent": {
          "id": "2809f7c9-7af3-4c0d-be3f-2c67486d1018"
        },
        "id": "Odu8BUgEweBh",
        "colab_type": "code",
        "colab": {
          "base_uri": "https://localhost:8080/",
          "height": 34
        },
        "outputId": "7e471b51-5919-41dd-d27f-95ee97ceefad"
      },
      "source": [
        "tup[1:]"
      ],
      "execution_count": 17,
      "outputs": [
        {
          "output_type": "execute_result",
          "data": {
            "text/plain": [
              "(2, 3)"
            ]
          },
          "metadata": {
            "tags": []
          },
          "execution_count": 17
        }
      ]
    },
    {
      "cell_type": "markdown",
      "metadata": {
        "nbpresent": {
          "id": "3ae114c1-0e42-417a-b54e-1ca18044c59c"
        },
        "id": "3CLfE0taweBo",
        "colab_type": "text"
      },
      "source": [
        "## Boolean expressions"
      ]
    },
    {
      "cell_type": "code",
      "metadata": {
        "nbpresent": {
          "id": "32ce4183-e86a-413e-aaaf-b9c243df8577"
        },
        "id": "uLhqzJTUweBp",
        "colab_type": "code",
        "colab": {
          "base_uri": "https://localhost:8080/",
          "height": 34
        },
        "outputId": "dca6caa8-99eb-41f2-8a9e-3efcfafb918b"
      },
      "source": [
        "1 in [1,2,3]"
      ],
      "execution_count": 18,
      "outputs": [
        {
          "output_type": "execute_result",
          "data": {
            "text/plain": [
              "True"
            ]
          },
          "metadata": {
            "tags": []
          },
          "execution_count": 18
        }
      ]
    },
    {
      "cell_type": "code",
      "metadata": {
        "nbpresent": {
          "id": "5a839225-b9b2-4240-8bae-d1496ce6a932"
        },
        "id": "2pD5OyLXweBv",
        "colab_type": "code",
        "colab": {
          "base_uri": "https://localhost:8080/",
          "height": 34
        },
        "outputId": "e89d57a7-47d7-4680-e430-47165b7713fc"
      },
      "source": [
        "5 in [1,2,3]"
      ],
      "execution_count": 19,
      "outputs": [
        {
          "output_type": "execute_result",
          "data": {
            "text/plain": [
              "False"
            ]
          },
          "metadata": {
            "tags": []
          },
          "execution_count": 19
        }
      ]
    },
    {
      "cell_type": "code",
      "metadata": {
        "nbpresent": {
          "id": "4fe11454-a482-466e-9fa5-ca19d9600aed"
        },
        "id": "IeJBcYLQweB2",
        "colab_type": "code",
        "colab": {
          "base_uri": "https://localhost:8080/",
          "height": 34
        },
        "outputId": "0dff546d-3cf6-48f8-b413-0b90c8618fcb"
      },
      "source": [
        "\"a\" not in \"Todd\""
      ],
      "execution_count": 20,
      "outputs": [
        {
          "output_type": "execute_result",
          "data": {
            "text/plain": [
              "True"
            ]
          },
          "metadata": {
            "tags": []
          },
          "execution_count": 20
        }
      ]
    },
    {
      "cell_type": "code",
      "metadata": {
        "nbpresent": {
          "id": "f8a45d7f-96aa-4921-b79d-0766c4c2455b"
        },
        "id": "VaxovfpBweB-",
        "colab_type": "code",
        "colab": {
          "base_uri": "https://localhost:8080/",
          "height": 34
        },
        "outputId": "41ee6e8b-8c12-4957-a877-107662e2b446"
      },
      "source": [
        "\"a\" in [\"a\", \"b\", \"c\"]"
      ],
      "execution_count": 21,
      "outputs": [
        {
          "output_type": "execute_result",
          "data": {
            "text/plain": [
              "True"
            ]
          },
          "metadata": {
            "tags": []
          },
          "execution_count": 21
        }
      ]
    },
    {
      "cell_type": "code",
      "metadata": {
        "nbpresent": {
          "id": "a614c579-fd34-45ce-8c2a-8b25e1e85671"
        },
        "id": "PZMD3TFaweCE",
        "colab_type": "code",
        "colab": {
          "base_uri": "https://localhost:8080/",
          "height": 34
        },
        "outputId": "05f11bdb-f1ed-4644-b007-1640d9cdf2ed"
      },
      "source": [
        "\"a\" in [\"abc\", \"def\"]"
      ],
      "execution_count": 22,
      "outputs": [
        {
          "output_type": "execute_result",
          "data": {
            "text/plain": [
              "False"
            ]
          },
          "metadata": {
            "tags": []
          },
          "execution_count": 22
        }
      ]
    },
    {
      "cell_type": "code",
      "metadata": {
        "nbpresent": {
          "id": "1654f260-ee30-48ae-ab1a-7aa665103616"
        },
        "id": "HntZldgUweCK",
        "colab_type": "code",
        "colab": {
          "base_uri": "https://localhost:8080/",
          "height": 34
        },
        "outputId": "045f3816-e64a-4c24-80cd-4c050090224b"
      },
      "source": [
        "\"todd\" == \"Todd\""
      ],
      "execution_count": 23,
      "outputs": [
        {
          "output_type": "execute_result",
          "data": {
            "text/plain": [
              "False"
            ]
          },
          "metadata": {
            "tags": []
          },
          "execution_count": 23
        }
      ]
    },
    {
      "cell_type": "markdown",
      "metadata": {
        "nbpresent": {
          "id": "573bf141-408a-4a01-a6df-8e411f6bb6f2"
        },
        "id": "pmJ5tsYtweCQ",
        "colab_type": "text"
      },
      "source": [
        "## Making a range of numbers\n",
        "\n",
        "* `range` returns a sequence of numbers\n",
        "* Lazy, converted to a list\n",
        "    * for small ranges"
      ]
    },
    {
      "cell_type": "code",
      "metadata": {
        "nbpresent": {
          "id": "d2f0a0d2-9f0c-4c8d-96e5-888549baa5d3"
        },
        "id": "konvqwGUweCR",
        "colab_type": "code",
        "colab": {
          "base_uri": "https://localhost:8080/",
          "height": 34
        },
        "outputId": "81ff5cd0-a7d2-4366-9190-ef733e0fabc7"
      },
      "source": [
        "range(5)"
      ],
      "execution_count": 24,
      "outputs": [
        {
          "output_type": "execute_result",
          "data": {
            "text/plain": [
              "range(0, 5)"
            ]
          },
          "metadata": {
            "tags": []
          },
          "execution_count": 24
        }
      ]
    },
    {
      "cell_type": "code",
      "metadata": {
        "nbpresent": {
          "id": "c057388e-3cc4-45a8-9bbc-538c1d38e6cf"
        },
        "id": "eFqQr1CkweCW",
        "colab_type": "code",
        "colab": {
          "base_uri": "https://localhost:8080/",
          "height": 34
        },
        "outputId": "c99cab1e-6ce1-4dcd-fe13-82a2cbe88060"
      },
      "source": [
        "list(range(5))"
      ],
      "execution_count": 25,
      "outputs": [
        {
          "output_type": "execute_result",
          "data": {
            "text/plain": [
              "[0, 1, 2, 3, 4]"
            ]
          },
          "metadata": {
            "tags": []
          },
          "execution_count": 25
        }
      ]
    },
    {
      "cell_type": "markdown",
      "metadata": {
        "nbpresent": {
          "id": "a06b52c5-7cd8-4944-babf-c5089452dd48"
        },
        "id": "eBGQNOW9weCc",
        "colab_type": "text"
      },
      "source": [
        "## One argument\n",
        "\n",
        "* Starts at 0\n",
        "    * aligned with Python indexes\n",
        "* Up to, but not including, argument\n",
        "    * `range(n)` returns `n` elements\n",
        "    * Useful for repetition"
      ]
    },
    {
      "cell_type": "code",
      "metadata": {
        "nbpresent": {
          "id": "42aab43f-a332-40c6-8eda-30dc154716eb"
        },
        "id": "XPvoVAlcweCd",
        "colab_type": "code",
        "colab": {
          "base_uri": "https://localhost:8080/",
          "height": 34
        },
        "outputId": "d1731a7f-8c94-439a-f1aa-ab060308756f"
      },
      "source": [
        "list(range(10))"
      ],
      "execution_count": 26,
      "outputs": [
        {
          "output_type": "execute_result",
          "data": {
            "text/plain": [
              "[0, 1, 2, 3, 4, 5, 6, 7, 8, 9]"
            ]
          },
          "metadata": {
            "tags": []
          },
          "execution_count": 26
        }
      ]
    },
    {
      "cell_type": "markdown",
      "metadata": {
        "nbpresent": {
          "id": "3d06082c-c9b4-433c-b00f-716b6966d855"
        },
        "id": "FsY9wBbUweCh",
        "colab_type": "text"
      },
      "source": [
        "## Two Arguments\n",
        "\n",
        "* Starts at first argument\n",
        "* Goes up to, but not including, second argument\n",
        "    * Like slicing"
      ]
    },
    {
      "cell_type": "code",
      "metadata": {
        "nbpresent": {
          "id": "39c1a895-261d-4d77-8cf9-d0036be4ac78"
        },
        "id": "s23BjBkLweCi",
        "colab_type": "code",
        "colab": {
          "base_uri": "https://localhost:8080/",
          "height": 34
        },
        "outputId": "e228c82b-734c-4d09-d4a4-2677b66a882e"
      },
      "source": [
        "list(range(2, 10))"
      ],
      "execution_count": 27,
      "outputs": [
        {
          "output_type": "execute_result",
          "data": {
            "text/plain": [
              "[2, 3, 4, 5, 6, 7, 8, 9]"
            ]
          },
          "metadata": {
            "tags": []
          },
          "execution_count": 27
        }
      ]
    },
    {
      "cell_type": "markdown",
      "metadata": {
        "nbpresent": {
          "id": "fbfc6859-e7c7-49fc-9853-991923e821ae"
        },
        "id": "RwxeAMlvweCp",
        "colab_type": "text"
      },
      "source": [
        "## Three Arguments\n",
        "\n",
        "* First two as before\n",
        "* Third argument is step size"
      ]
    },
    {
      "cell_type": "code",
      "metadata": {
        "nbpresent": {
          "id": "4088789c-ae95-48d5-b3f8-bccb54304330"
        },
        "id": "hejXDJVlweCq",
        "colab_type": "code",
        "colab": {
          "base_uri": "https://localhost:8080/",
          "height": 34
        },
        "outputId": "39c4d016-a35a-48d2-fca5-d87f486fa135"
      },
      "source": [
        "list(range(1,5,2))"
      ],
      "execution_count": 28,
      "outputs": [
        {
          "output_type": "execute_result",
          "data": {
            "text/plain": [
              "[1, 3]"
            ]
          },
          "metadata": {
            "tags": []
          },
          "execution_count": 28
        }
      ]
    },
    {
      "cell_type": "code",
      "metadata": {
        "nbpresent": {
          "id": "af1af556-6ff7-4a4c-a729-65ac1a0c57e7"
        },
        "id": "UO6kHZQ2weCv",
        "colab_type": "code",
        "colab": {
          "base_uri": "https://localhost:8080/",
          "height": 34
        },
        "outputId": "554275b8-85fd-4360-9cda-be3f658044b3"
      },
      "source": [
        "list(range(10,2,-1))"
      ],
      "execution_count": 29,
      "outputs": [
        {
          "output_type": "execute_result",
          "data": {
            "text/plain": [
              "[10, 9, 8, 7, 6, 5, 4, 3]"
            ]
          },
          "metadata": {
            "tags": []
          },
          "execution_count": 29
        }
      ]
    },
    {
      "cell_type": "markdown",
      "metadata": {
        "nbpresent": {
          "id": "971c74bb-e97d-4f62-b8e1-dd095f971d82"
        },
        "id": "nytjHCmUweC3",
        "colab_type": "text"
      },
      "source": [
        "## Other list processing functions"
      ]
    },
    {
      "cell_type": "markdown",
      "metadata": {
        "nbpresent": {
          "id": "e5da4d20-3fe0-4a80-ac12-977067145539"
        },
        "id": "zmT5L8hpweC4",
        "colab_type": "text"
      },
      "source": [
        "### sum and max"
      ]
    },
    {
      "cell_type": "code",
      "metadata": {
        "nbpresent": {
          "id": "83de843e-c421-43aa-9759-6a9832e8bb87"
        },
        "id": "tJeGHabtweC5",
        "colab_type": "code",
        "colab": {
          "base_uri": "https://localhost:8080/",
          "height": 34
        },
        "outputId": "5d5dc6df-7ed0-4da3-f50f-5c55cebc5940"
      },
      "source": [
        "sum([1,2,3])"
      ],
      "execution_count": 30,
      "outputs": [
        {
          "output_type": "execute_result",
          "data": {
            "text/plain": [
              "6"
            ]
          },
          "metadata": {
            "tags": []
          },
          "execution_count": 30
        }
      ]
    },
    {
      "cell_type": "code",
      "metadata": {
        "nbpresent": {
          "id": "06f88760-7610-4211-af4c-1fb623ff9a2c"
        },
        "id": "uj5MWlkGweC9",
        "colab_type": "code",
        "colab": {
          "base_uri": "https://localhost:8080/",
          "height": 34
        },
        "outputId": "d07d8a49-a0ed-46f2-ac28-20a3312be648"
      },
      "source": [
        "max([1,2,3])"
      ],
      "execution_count": 31,
      "outputs": [
        {
          "output_type": "execute_result",
          "data": {
            "text/plain": [
              "3"
            ]
          },
          "metadata": {
            "tags": []
          },
          "execution_count": 31
        }
      ]
    },
    {
      "cell_type": "markdown",
      "metadata": {
        "nbpresent": {
          "id": "73f7b36b-675a-45e8-a0a7-5777aa4b5b9f"
        },
        "id": "aauV-6lhweDE",
        "colab_type": "text"
      },
      "source": [
        "## all and any"
      ]
    },
    {
      "cell_type": "code",
      "metadata": {
        "nbpresent": {
          "id": "a1f1ce29-a633-440a-aebe-436a72092a1f"
        },
        "id": "AnFfqDe2weDF",
        "colab_type": "code",
        "colab": {}
      },
      "source": [
        "all([True, False, False]) # True if all entries are True"
      ],
      "execution_count": null,
      "outputs": []
    },
    {
      "cell_type": "code",
      "metadata": {
        "nbpresent": {
          "id": "a8799272-513e-4425-89fd-da3440072a7f"
        },
        "id": "uLbDbnQpweDJ",
        "colab_type": "code",
        "colab": {
          "base_uri": "https://localhost:8080/",
          "height": 34
        },
        "outputId": "35217bcb-fdd2-48b0-8ea4-c260732acd8f"
      },
      "source": [
        "any([True, False, False]) # True if any entries are True"
      ],
      "execution_count": 33,
      "outputs": [
        {
          "output_type": "execute_result",
          "data": {
            "text/plain": [
              "True"
            ]
          },
          "metadata": {
            "tags": []
          },
          "execution_count": 33
        }
      ]
    },
    {
      "cell_type": "code",
      "metadata": {
        "id": "yFnPyeTG0GYO",
        "colab_type": "code",
        "colab": {}
      },
      "source": [
        "any([0,1,2])"
      ],
      "execution_count": null,
      "outputs": []
    },
    {
      "cell_type": "code",
      "metadata": {
        "id": "_RWSe4uS0Np8",
        "colab_type": "code",
        "colab": {}
      },
      "source": [
        "all([0,1,2])"
      ],
      "execution_count": null,
      "outputs": []
    },
    {
      "cell_type": "markdown",
      "metadata": {
        "nbpresent": {
          "id": "11458b39-3b9e-4564-be5f-1bf53168a5b9"
        },
        "id": "zPsFfSnwweDO",
        "colab_type": "text"
      },
      "source": [
        "### `sorted` - making a new sorted sequence"
      ]
    },
    {
      "cell_type": "code",
      "metadata": {
        "nbpresent": {
          "id": "b7b6311e-9c8a-484f-8dcf-305bfcf7c99d"
        },
        "id": "YPQcga1_weDP",
        "colab_type": "code",
        "colab": {
          "base_uri": "https://localhost:8080/",
          "height": 34
        },
        "outputId": "e2c8412d-bcc9-4e71-d90b-66f06f45b2fd"
      },
      "source": [
        "sorted([1,3,2,5,4]) # returns a new sorted list"
      ],
      "execution_count": 34,
      "outputs": [
        {
          "output_type": "execute_result",
          "data": {
            "text/plain": [
              "[1, 2, 3, 4, 5]"
            ]
          },
          "metadata": {
            "tags": []
          },
          "execution_count": 34
        }
      ]
    },
    {
      "cell_type": "markdown",
      "metadata": {
        "nbpresent": {
          "id": "79bec505-58a0-45bb-8857-617ea2dfd2bf"
        },
        "id": "6LscEf9PweDU",
        "colab_type": "text"
      },
      "source": [
        "## Combining lists with `zip`"
      ]
    },
    {
      "cell_type": "code",
      "metadata": {
        "nbpresent": {
          "id": "1c70df56-28a7-4fee-ba13-f025be816c08"
        },
        "id": "zv4Mlr7lweDV",
        "colab_type": "code",
        "colab": {
          "base_uri": "https://localhost:8080/",
          "height": 34
        },
        "outputId": "a86eff21-0ef6-4147-e439-0f00f255bdfd"
      },
      "source": [
        "zip([1,2,3], [\"a\", \"b\", \"c\"]) # zip is lazy"
      ],
      "execution_count": 35,
      "outputs": [
        {
          "output_type": "execute_result",
          "data": {
            "text/plain": [
              "<zip at 0x7f738a00fe88>"
            ]
          },
          "metadata": {
            "tags": []
          },
          "execution_count": 35
        }
      ]
    },
    {
      "cell_type": "code",
      "metadata": {
        "nbpresent": {
          "id": "0de7acea-bf29-4994-a89d-21f938825c7e"
        },
        "id": "GxYtrUxoweDb",
        "colab_type": "code",
        "colab": {
          "base_uri": "https://localhost:8080/",
          "height": 34
        },
        "outputId": "080e5ffc-3a08-4ca0-d7a0-520bc8358ad3"
      },
      "source": [
        "list(zip([1,2,3], [\"a\", \"b\", \"c\"])) # Use list to complete"
      ],
      "execution_count": 36,
      "outputs": [
        {
          "output_type": "execute_result",
          "data": {
            "text/plain": [
              "[(1, 'a'), (2, 'b'), (3, 'c')]"
            ]
          },
          "metadata": {
            "tags": []
          },
          "execution_count": 36
        }
      ]
    },
    {
      "cell_type": "markdown",
      "metadata": {
        "nbpresent": {
          "id": "ccaf8ff7-9f76-4ab8-851c-8630a3bb7701"
        },
        "id": "c59W4a-RweDi",
        "colab_type": "text"
      },
      "source": [
        "### <font color='red'> Exercise 1 </font>\n",
        "\n",
        "Write a function named `largest_three` that will return the three largest elements of a list.\n",
        "\n",
        "**Example** largest_three(range(5)) == [4, 3, 2]\n",
        "\n",
        "**Hint** `sorted` and slicing should do the trick!"
      ]
    },
    {
      "cell_type": "code",
      "metadata": {
        "nbpresent": {
          "id": "3da3a1e9-e1c3-4dfc-be8d-e9f698bf5ca0"
        },
        "id": "keYZ2eKnweDj",
        "colab_type": "code",
        "colab": {
          "base_uri": "https://localhost:8080/",
          "height": 248
        },
        "outputId": "77517913-0aef-4550-eacd-491fa09f9578"
      },
      "source": [
        "largest_three = lambda l: sorted(-1, range(l))\n",
        "largest_three(5)"
      ],
      "execution_count": 48,
      "outputs": [
        {
          "output_type": "error",
          "ename": "TypeError",
          "evalue": "ignored",
          "traceback": [
            "\u001b[0;31m---------------------------------------------------------------------------\u001b[0m",
            "\u001b[0;31mTypeError\u001b[0m                                 Traceback (most recent call last)",
            "\u001b[0;32m<ipython-input-48-efdd9717851d>\u001b[0m in \u001b[0;36m<module>\u001b[0;34m()\u001b[0m\n\u001b[1;32m      1\u001b[0m \u001b[0mlargest_three\u001b[0m \u001b[0;34m=\u001b[0m \u001b[0;32mlambda\u001b[0m \u001b[0ml\u001b[0m\u001b[0;34m:\u001b[0m \u001b[0msorted\u001b[0m\u001b[0;34m(\u001b[0m\u001b[0;34m-\u001b[0m\u001b[0;36m1\u001b[0m\u001b[0;34m,\u001b[0m \u001b[0mrange\u001b[0m\u001b[0;34m(\u001b[0m\u001b[0ml\u001b[0m\u001b[0;34m)\u001b[0m\u001b[0;34m)\u001b[0m\u001b[0;34m\u001b[0m\u001b[0;34m\u001b[0m\u001b[0m\n\u001b[0;32m----> 2\u001b[0;31m \u001b[0mlargest_three\u001b[0m\u001b[0;34m(\u001b[0m\u001b[0;36m5\u001b[0m\u001b[0;34m)\u001b[0m\u001b[0;34m\u001b[0m\u001b[0;34m\u001b[0m\u001b[0m\n\u001b[0m",
            "\u001b[0;32m<ipython-input-48-efdd9717851d>\u001b[0m in \u001b[0;36m<lambda>\u001b[0;34m(l)\u001b[0m\n\u001b[0;32m----> 1\u001b[0;31m \u001b[0mlargest_three\u001b[0m \u001b[0;34m=\u001b[0m \u001b[0;32mlambda\u001b[0m \u001b[0ml\u001b[0m\u001b[0;34m:\u001b[0m \u001b[0msorted\u001b[0m\u001b[0;34m(\u001b[0m\u001b[0;34m-\u001b[0m\u001b[0;36m1\u001b[0m\u001b[0;34m,\u001b[0m \u001b[0mrange\u001b[0m\u001b[0;34m(\u001b[0m\u001b[0ml\u001b[0m\u001b[0;34m)\u001b[0m\u001b[0;34m)\u001b[0m\u001b[0;34m\u001b[0m\u001b[0;34m\u001b[0m\u001b[0m\n\u001b[0m\u001b[1;32m      2\u001b[0m \u001b[0mlargest_three\u001b[0m\u001b[0;34m(\u001b[0m\u001b[0;36m5\u001b[0m\u001b[0;34m)\u001b[0m\u001b[0;34m\u001b[0m\u001b[0;34m\u001b[0m\u001b[0m\n",
            "\u001b[0;31mTypeError\u001b[0m: 'int' object is not iterable"
          ]
        }
      ]
    },
    {
      "cell_type": "markdown",
      "metadata": {
        "nbpresent": {
          "id": "4dde7659-919e-4d17-9f8d-ecdb41645a22"
        },
        "id": "wGum7WXsweDp",
        "colab_type": "text"
      },
      "source": [
        "### <font color=\"red\"> Exercise 2</font>\n",
        "\n",
        "Create the following functions.\n",
        "\n",
        "* Write a function named `median_odd` that will compute the median of an odd-length list.\n",
        "    * You need to sort and get the middle value using indexing."
      ]
    },
    {
      "cell_type": "code",
      "metadata": {
        "id": "vNjntG1K7tz1",
        "colab_type": "code",
        "colab": {
          "base_uri": "https://localhost:8080/",
          "height": 156
        },
        "outputId": "3be51380-aecf-4780-83d1-dd3c087a63fc"
      },
      "source": [
        "!pip install composable"
      ],
      "execution_count": 62,
      "outputs": [
        {
          "output_type": "stream",
          "text": [
            "Collecting composable\n",
            "  Downloading https://files.pythonhosted.org/packages/09/e3/d39be68eedf95b03f9d39107809fed1f9f23bd35dfa875bc38abc815670c/composable-0.1.1-py3-none-any.whl\n",
            "Collecting python-forge<19.0,>=18.6\n",
            "  Downloading https://files.pythonhosted.org/packages/41/d6/e9af8e22d153ebbf584833c1c96d590046f522ae2a86978d4efe496b4aac/python_forge-18.6.0-py35-none-any.whl\n",
            "Requirement already satisfied: toolz<0.11.0,>=0.10.0 in /usr/local/lib/python3.6/dist-packages (from composable) (0.10.0)\n",
            "Installing collected packages: python-forge, composable\n",
            "Successfully installed composable-0.1.1 python-forge-18.6.0\n"
          ],
          "name": "stdout"
        }
      ]
    },
    {
      "cell_type": "code",
      "metadata": {
        "id": "ICccdhqPweDq",
        "colab_type": "code",
        "colab": {}
      },
      "source": [
        "from composable import pipeable\n",
        "\n",
        "median_odd = lambda L: s[0:sorted(L): int(L.len/2)]"
      ],
      "execution_count": 63,
      "outputs": []
    },
    {
      "cell_type": "code",
      "metadata": {
        "nbpresent": {
          "id": "0198e826-d5ea-414c-ae04-995b0d4ba170"
        },
        "id": "gaYSUUeEweDu",
        "colab_type": "code",
        "colab": {
          "base_uri": "https://localhost:8080/",
          "height": 306
        },
        "outputId": "42aab8e5-64a9-4356-9840-3359ef5b2804"
      },
      "source": [
        "# You need to pass these tests\n",
        "def test_median_odd():\n",
        "    assert median_odd([1]) == 1 # edge case\n",
        "    assert median_odd([1,2,3]) == 2 # should work on sorted list\n",
        "    assert median_odd([1,3,2,4,5]) == 3 # needs to sort first\n",
        "test_median_odd()"
      ],
      "execution_count": 64,
      "outputs": [
        {
          "output_type": "error",
          "ename": "AttributeError",
          "evalue": "ignored",
          "traceback": [
            "\u001b[0;31m---------------------------------------------------------------------------\u001b[0m",
            "\u001b[0;31mAttributeError\u001b[0m                            Traceback (most recent call last)",
            "\u001b[0;32m<ipython-input-64-a42273fbd0bc>\u001b[0m in \u001b[0;36m<module>\u001b[0;34m()\u001b[0m\n\u001b[1;32m      4\u001b[0m     \u001b[0;32massert\u001b[0m \u001b[0mmedian_odd\u001b[0m\u001b[0;34m(\u001b[0m\u001b[0;34m[\u001b[0m\u001b[0;36m1\u001b[0m\u001b[0;34m,\u001b[0m\u001b[0;36m2\u001b[0m\u001b[0;34m,\u001b[0m\u001b[0;36m3\u001b[0m\u001b[0;34m]\u001b[0m\u001b[0;34m)\u001b[0m \u001b[0;34m==\u001b[0m \u001b[0;36m2\u001b[0m \u001b[0;31m# should work on sorted list\u001b[0m\u001b[0;34m\u001b[0m\u001b[0;34m\u001b[0m\u001b[0m\n\u001b[1;32m      5\u001b[0m     \u001b[0;32massert\u001b[0m \u001b[0mmedian_odd\u001b[0m\u001b[0;34m(\u001b[0m\u001b[0;34m[\u001b[0m\u001b[0;36m1\u001b[0m\u001b[0;34m,\u001b[0m\u001b[0;36m3\u001b[0m\u001b[0;34m,\u001b[0m\u001b[0;36m2\u001b[0m\u001b[0;34m,\u001b[0m\u001b[0;36m4\u001b[0m\u001b[0;34m,\u001b[0m\u001b[0;36m5\u001b[0m\u001b[0;34m]\u001b[0m\u001b[0;34m)\u001b[0m \u001b[0;34m==\u001b[0m \u001b[0;36m3\u001b[0m \u001b[0;31m# needs to sort first\u001b[0m\u001b[0;34m\u001b[0m\u001b[0;34m\u001b[0m\u001b[0m\n\u001b[0;32m----> 6\u001b[0;31m \u001b[0mtest_median_odd\u001b[0m\u001b[0;34m(\u001b[0m\u001b[0;34m)\u001b[0m\u001b[0;34m\u001b[0m\u001b[0;34m\u001b[0m\u001b[0m\n\u001b[0m",
            "\u001b[0;32m<ipython-input-64-a42273fbd0bc>\u001b[0m in \u001b[0;36mtest_median_odd\u001b[0;34m()\u001b[0m\n\u001b[1;32m      1\u001b[0m \u001b[0;31m# You need to pass these tests\u001b[0m\u001b[0;34m\u001b[0m\u001b[0;34m\u001b[0m\u001b[0;34m\u001b[0m\u001b[0m\n\u001b[1;32m      2\u001b[0m \u001b[0;32mdef\u001b[0m \u001b[0mtest_median_odd\u001b[0m\u001b[0;34m(\u001b[0m\u001b[0;34m)\u001b[0m\u001b[0;34m:\u001b[0m\u001b[0;34m\u001b[0m\u001b[0;34m\u001b[0m\u001b[0m\n\u001b[0;32m----> 3\u001b[0;31m     \u001b[0;32massert\u001b[0m \u001b[0mmedian_odd\u001b[0m\u001b[0;34m(\u001b[0m\u001b[0;34m[\u001b[0m\u001b[0;36m1\u001b[0m\u001b[0;34m]\u001b[0m\u001b[0;34m)\u001b[0m \u001b[0;34m==\u001b[0m \u001b[0;36m1\u001b[0m \u001b[0;31m# edge case\u001b[0m\u001b[0;34m\u001b[0m\u001b[0;34m\u001b[0m\u001b[0m\n\u001b[0m\u001b[1;32m      4\u001b[0m     \u001b[0;32massert\u001b[0m \u001b[0mmedian_odd\u001b[0m\u001b[0;34m(\u001b[0m\u001b[0;34m[\u001b[0m\u001b[0;36m1\u001b[0m\u001b[0;34m,\u001b[0m\u001b[0;36m2\u001b[0m\u001b[0;34m,\u001b[0m\u001b[0;36m3\u001b[0m\u001b[0;34m]\u001b[0m\u001b[0;34m)\u001b[0m \u001b[0;34m==\u001b[0m \u001b[0;36m2\u001b[0m \u001b[0;31m# should work on sorted list\u001b[0m\u001b[0;34m\u001b[0m\u001b[0;34m\u001b[0m\u001b[0m\n\u001b[1;32m      5\u001b[0m     \u001b[0;32massert\u001b[0m \u001b[0mmedian_odd\u001b[0m\u001b[0;34m(\u001b[0m\u001b[0;34m[\u001b[0m\u001b[0;36m1\u001b[0m\u001b[0;34m,\u001b[0m\u001b[0;36m3\u001b[0m\u001b[0;34m,\u001b[0m\u001b[0;36m2\u001b[0m\u001b[0;34m,\u001b[0m\u001b[0;36m4\u001b[0m\u001b[0;34m,\u001b[0m\u001b[0;36m5\u001b[0m\u001b[0;34m]\u001b[0m\u001b[0;34m)\u001b[0m \u001b[0;34m==\u001b[0m \u001b[0;36m3\u001b[0m \u001b[0;31m# needs to sort first\u001b[0m\u001b[0;34m\u001b[0m\u001b[0;34m\u001b[0m\u001b[0m\n",
            "\u001b[0;32m<ipython-input-63-afc51c153fa4>\u001b[0m in \u001b[0;36m<lambda>\u001b[0;34m(L)\u001b[0m\n\u001b[1;32m      1\u001b[0m \u001b[0;32mfrom\u001b[0m \u001b[0mcomposable\u001b[0m \u001b[0;32mimport\u001b[0m \u001b[0mpipeable\u001b[0m\u001b[0;34m\u001b[0m\u001b[0;34m\u001b[0m\u001b[0m\n\u001b[1;32m      2\u001b[0m \u001b[0;34m\u001b[0m\u001b[0m\n\u001b[0;32m----> 3\u001b[0;31m \u001b[0mmedian_odd\u001b[0m \u001b[0;34m=\u001b[0m \u001b[0;32mlambda\u001b[0m \u001b[0mL\u001b[0m\u001b[0;34m:\u001b[0m \u001b[0ms\u001b[0m\u001b[0;34m[\u001b[0m\u001b[0;36m0\u001b[0m\u001b[0;34m:\u001b[0m\u001b[0msorted\u001b[0m\u001b[0;34m(\u001b[0m\u001b[0mL\u001b[0m\u001b[0;34m)\u001b[0m\u001b[0;34m:\u001b[0m \u001b[0mint\u001b[0m\u001b[0;34m(\u001b[0m\u001b[0mL\u001b[0m\u001b[0;34m.\u001b[0m\u001b[0mlen\u001b[0m\u001b[0;34m/\u001b[0m\u001b[0;36m2\u001b[0m\u001b[0;34m)\u001b[0m\u001b[0;34m]\u001b[0m\u001b[0;34m\u001b[0m\u001b[0;34m\u001b[0m\u001b[0m\n\u001b[0m",
            "\u001b[0;31mAttributeError\u001b[0m: 'list' object has no attribute 'len'"
          ]
        }
      ]
    },
    {
      "cell_type": "markdown",
      "metadata": {
        "nbpresent": {
          "id": "4dde7659-919e-4d17-9f8d-ecdb41645a22"
        },
        "id": "nAjAecidweDy",
        "colab_type": "text"
      },
      "source": [
        "* Write a function named `median_even` that will compute the median of an even-length list.\n",
        "    * You need to sort, get the middle 2 value with slicing, and average these values."
      ]
    },
    {
      "cell_type": "code",
      "metadata": {
        "id": "mSHJLWStweDz",
        "colab_type": "code",
        "colab": {}
      },
      "source": [
        "median_even = lambda L: 5 s[0: int(L.length/2)]"
      ],
      "execution_count": null,
      "outputs": []
    },
    {
      "cell_type": "code",
      "metadata": {
        "nbpresent": {
          "id": "0198e826-d5ea-414c-ae04-995b0d4ba170"
        },
        "id": "yQvpT_dJweD5",
        "colab_type": "code",
        "colab": {}
      },
      "source": [
        "# You need to pass these tests\n",
        "def test_median_even():\n",
        "    assert median_odd([1, 2]) == 1.5 # edge case\n",
        "    assert median_odd([1, 2, 2, 3]) == 2.0 # should work on sorted list\n",
        "    assert median_odd([1, 3,4,2]) == 2.5 # needs to sort first\n",
        "test_median_even()"
      ],
      "execution_count": null,
      "outputs": []
    },
    {
      "cell_type": "markdown",
      "metadata": {
        "nbpresent": {
          "id": "4dde7659-919e-4d17-9f8d-ecdb41645a22"
        },
        "id": "Alo4hUFhweED",
        "colab_type": "text"
      },
      "source": [
        "* Write a function named `median` that will compute the median of any length list.\n",
        "    * Use the conditional expression along with `median_odd` and `median_even`"
      ]
    },
    {
      "cell_type": "code",
      "metadata": {
        "id": "F5S-STD5weEE",
        "colab_type": "code",
        "colab": {}
      },
      "source": [
        "median = lambda L:# if even then even else odd "
      ],
      "execution_count": null,
      "outputs": []
    },
    {
      "cell_type": "markdown",
      "metadata": {
        "nbpresent": {
          "id": "2e1dc285-b7d5-4802-94d7-f17654ad43d2"
        },
        "id": "z7TuQUrGweEL",
        "colab_type": "text"
      },
      "source": [
        "### (Optional) Other Sequence Operations\n",
        "\n",
        "|Operation  | Purpose     |\n",
        "|---------- | ------------|\n",
        "| +         | concatenate |\n",
        "| *         | replicate   |\n",
        "| s[i]      | index       |\n",
        "| s[i:j]    | slice       |\n",
        "| len(s)    | length      |\n",
        "| s in t    | membership  |\n",
        "| s not in t| membership  |"
      ]
    },
    {
      "cell_type": "markdown",
      "metadata": {
        "nbpresent": {
          "id": "e45ac6b1-f224-4bcd-8a38-4c2c1d3a7591"
        },
        "id": "FqrphefqweEO",
        "colab_type": "text"
      },
      "source": [
        "## Arithmetic"
      ]
    },
    {
      "cell_type": "code",
      "metadata": {
        "nbpresent": {
          "id": "4e4aee86-02f2-48b3-a59e-af9269c1dc25"
        },
        "id": "8MadlYBEweEQ",
        "colab_type": "code",
        "colab": {},
        "outputId": "97e89e9b-b69d-497a-a6a5-e4dbfac9d787"
      },
      "source": [
        "\"123\" + \"abc\""
      ],
      "execution_count": null,
      "outputs": [
        {
          "output_type": "execute_result",
          "data": {
            "text/plain": [
              "'123abc'"
            ]
          },
          "metadata": {
            "tags": []
          },
          "execution_count": 1
        }
      ]
    },
    {
      "cell_type": "code",
      "metadata": {
        "nbpresent": {
          "id": "af4fccfe-5504-450d-8968-551c7efb0116"
        },
        "id": "su9nUMV8weEW",
        "colab_type": "code",
        "colab": {},
        "outputId": "131f79b0-a799-4908-cdc3-29742f22c56d"
      },
      "source": [
        "[1,2,3] + [\"a\",\"b\",\"c\"]"
      ],
      "execution_count": null,
      "outputs": [
        {
          "output_type": "execute_result",
          "data": {
            "text/plain": [
              "[1, 2, 3, 'a', 'b', 'c']"
            ]
          },
          "metadata": {
            "tags": []
          },
          "execution_count": 2
        }
      ]
    },
    {
      "cell_type": "code",
      "metadata": {
        "nbpresent": {
          "id": "ab3f85df-d2c0-4208-bdb0-a16b9d7d5e82"
        },
        "id": "QFRmXwHxweEe",
        "colab_type": "code",
        "colab": {},
        "outputId": "1e8c0ae7-365e-4e8d-991e-816b11a37c5a"
      },
      "source": [
        "3*[1,2,3]"
      ],
      "execution_count": null,
      "outputs": [
        {
          "output_type": "execute_result",
          "data": {
            "text/plain": [
              "[1, 2, 3, 1, 2, 3, 1, 2, 3]"
            ]
          },
          "metadata": {
            "tags": []
          },
          "execution_count": 3
        }
      ]
    },
    {
      "cell_type": "code",
      "metadata": {
        "nbpresent": {
          "id": "0b89ff0d-f7a7-44dc-a837-6a4025ffd8f2"
        },
        "id": "VHej4TL9weEi",
        "colab_type": "code",
        "colab": {},
        "outputId": "41bf2cce-8a7e-4d66-b262-ac91225f8c12"
      },
      "source": [
        "3*\"Wow\" + 4*\"!\""
      ],
      "execution_count": null,
      "outputs": [
        {
          "output_type": "execute_result",
          "data": {
            "text/plain": [
              "'WowWowWow!!!!'"
            ]
          },
          "metadata": {
            "tags": []
          },
          "execution_count": 4
        }
      ]
    },
    {
      "cell_type": "code",
      "metadata": {
        "nbpresent": {
          "id": "14ae61dc-3a2a-463b-8072-ca7a6794290e"
        },
        "id": "gvBCs1bpweEn",
        "colab_type": "code",
        "colab": {},
        "outputId": "8fcdb081-2e90-4023-cf2c-8ec99fd7aaa2"
      },
      "source": [
        "2*('a', 'b') + ('c',)"
      ],
      "execution_count": null,
      "outputs": [
        {
          "output_type": "execute_result",
          "data": {
            "text/plain": [
              "('a', 'b', 'a', 'b', 'c')"
            ]
          },
          "metadata": {
            "tags": []
          },
          "execution_count": 5
        }
      ]
    },
    {
      "cell_type": "markdown",
      "metadata": {
        "id": "jdfhZoIXweEs",
        "colab_type": "text"
      },
      "source": [
        "<font color=\"red\"><h2> (Optional) Exercise 3</h2></font>\n",
        "\n",
        "Create the following using concatenation (`+`) and replication (`*`)\n",
        "\n",
        "* [1,1,1,2,2,3,3,3]\n",
        "* \"Tora Tora Tora!\""
      ]
    },
    {
      "cell_type": "code",
      "metadata": {
        "id": "KM_tM6aOweEt",
        "colab_type": "code",
        "colab": {}
      },
      "source": [
        ""
      ],
      "execution_count": null,
      "outputs": []
    }
  ]
}