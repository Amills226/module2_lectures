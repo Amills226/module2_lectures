{
  "nbformat": 4,
  "nbformat_minor": 0,
  "metadata": {
    "celltoolbar": "Slideshow",
    "kernelspec": {
      "display_name": "Python 3",
      "language": "python",
      "name": "python3"
    },
    "language_info": {
      "codemirror_mode": {
        "name": "ipython",
        "version": 3
      },
      "file_extension": ".py",
      "mimetype": "text/x-python",
      "name": "python",
      "nbconvert_exporter": "python",
      "pygments_lexer": "ipython3",
      "version": "3.7.2"
    },
    "varInspector": {
      "cols": {
        "lenName": 16,
        "lenType": 16,
        "lenVar": 40
      },
      "kernels_config": {
        "python": {
          "delete_cmd_postfix": "",
          "delete_cmd_prefix": "del ",
          "library": "var_list.py",
          "varRefreshCmd": "print(var_dic_list())"
        },
        "r": {
          "delete_cmd_postfix": ") ",
          "delete_cmd_prefix": "rm(",
          "library": "var_list.r",
          "varRefreshCmd": "cat(var_dic_list()) "
        }
      },
      "types_to_exclude": [
        "module",
        "function",
        "builtin_function_or_method",
        "instance",
        "_Feature"
      ],
      "window_display": false
    },
    "colab": {
      "name": "1_7_introduction_to_regular_expressions.ipynb",
      "provenance": [],
      "include_colab_link": true
    }
  },
  "cells": [
    {
      "cell_type": "markdown",
      "metadata": {
        "id": "view-in-github",
        "colab_type": "text"
      },
      "source": [
        "<a href=\"https://colab.research.google.com/github/Amills226/module2_lectures/blob/master/1_7_introduction_to_regular_expressions.ipynb\" target=\"_parent\"><img src=\"https://colab.research.google.com/assets/colab-badge.svg\" alt=\"Open In Colab\"/></a>"
      ]
    },
    {
      "cell_type": "markdown",
      "metadata": {
        "id": "kFYvIp5kya27",
        "colab_type": "text"
      },
      "source": [
        "## Regular Expressions\n",
        "\n",
        "<img src=\"https://imgs.xkcd.com/comics/regular_expressions.png \" width=400>"
      ]
    },
    {
      "cell_type": "markdown",
      "metadata": {
        "id": "BQiLejrxya29",
        "colab_type": "text"
      },
      "source": [
        "## RegEx Golf\n",
        "\n",
        "<img src=\"https://imgs.xkcd.com/comics/regex_golf.png\" width=600>"
      ]
    },
    {
      "cell_type": "markdown",
      "metadata": {
        "id": "KPjuSZE4ya2-",
        "colab_type": "text"
      },
      "source": [
        "## Perl Problems\n",
        "\n",
        "    Some people, when confronted with a problem, think \"I know, I'll use regular expressions.\" Now they have two problems. - Jamie Zawinski \n",
        "<img src=\"https://imgs.xkcd.com/comics/perl_problems.png\" width=600>"
      ]
    },
    {
      "cell_type": "markdown",
      "metadata": {
        "id": "t9-rwuWzya3A",
        "colab_type": "text"
      },
      "source": [
        "## <font color=\"red\"> Exercise 1 </font>\n",
        "\n",
        "**Question:** What do all of these strings have in common?\n",
        "\n",
        "* `\"ab\"`\n",
        "* `\"abab\"`\n",
        "* `\"ababcde\"`\n",
        "* `\"abcde\"`"
      ]
    },
    {
      "cell_type": "markdown",
      "metadata": {
        "id": "iRnwBBn2ya3F",
        "colab_type": "text"
      },
      "source": [
        "they all start with ab"
      ]
    },
    {
      "cell_type": "markdown",
      "metadata": {
        "id": "f_NO-k3Uya3H",
        "colab_type": "text"
      },
      "source": [
        "## <font color=\"red\"> Exercise 2 </font>\n",
        "\n",
        "**Task:** Predict the next three elements of the sequence.\n",
        "\n",
        "* `\"0\"`\n",
        "* `\"1ab\"`\n",
        "* `\"2abab\"`\n",
        "* `\"3ababab\"`\n"
      ]
    },
    {
      "cell_type": "markdown",
      "metadata": {
        "id": "Y0rGDuXPya3J",
        "colab_type": "text"
      },
      "source": [
        "4abababab\n",
        "\n",
        "5ababababab\n",
        "\n",
        "6abababababab"
      ]
    },
    {
      "cell_type": "markdown",
      "metadata": {
        "id": "d4d7tHSiya3K",
        "colab_type": "text"
      },
      "source": [
        "## What is a regular expression\n",
        "\n",
        "* Language for matching regular patterns\n",
        "    * `\"ab\"`\n",
        "    * `\"abab\"`\n",
        "    * `\"ababcde\"`\n",
        "    * `\"abcde\"`\n",
        "* Can't match other, context sensitive, patterns\n",
        "    * `\"0\"`\n",
        "    * `\"1ab\"`\n",
        "    * `\"2abab\"`\n",
        "    * `\"3ababab\"`"
      ]
    },
    {
      "cell_type": "markdown",
      "metadata": {
        "id": "8J4aXJi6ya3M",
        "colab_type": "text"
      },
      "source": [
        "## <font color=\"red\"> Exercise 3 </font>\n",
        "\n",
        "**Tasks:** \n",
        "\n",
        "1. Go to [RegexOne](https://regexone.com/)\n",
        "2. Read the first section\n",
        "3. Define a pattern that matches the first three strings."
      ]
    },
    {
      "cell_type": "code",
      "metadata": {
        "id": "vE4lsrzoya3O",
        "colab_type": "code",
        "colab": {}
      },
      "source": [
        "pattern1 = \"abc\""
      ],
      "execution_count": 1,
      "outputs": []
    },
    {
      "cell_type": "markdown",
      "metadata": {
        "id": "oPqTaGMdya3X",
        "colab_type": "text"
      },
      "source": [
        "## Regular Expressions Workflow in Python\n",
        "\n",
        "* `import re`\n",
        "* Compile a pattern `regex = re.compile(pattern)`\n",
        "    * Use `r\"pattern\"` to avoid escaping symbols\n",
        "* `m = regex.match(some_string)`"
      ]
    },
    {
      "cell_type": "code",
      "metadata": {
        "id": "cF902sKhya3Y",
        "colab_type": "code",
        "colab": {}
      },
      "source": [
        "import re"
      ],
      "execution_count": 2,
      "outputs": []
    },
    {
      "cell_type": "code",
      "metadata": {
        "id": "bx-FRVNqya3f",
        "colab_type": "code",
        "colab": {
          "base_uri": "https://localhost:8080/",
          "height": 34
        },
        "outputId": "a9beb316-db05-4f21-ca72-823d9f9971ac"
      },
      "source": [
        "pattern = r\"ab\" # r is for raw\n",
        "regex = re.compile(pattern)\n",
        "m1 = regex.match('abc')\n",
        "m1"
      ],
      "execution_count": 3,
      "outputs": [
        {
          "output_type": "execute_result",
          "data": {
            "text/plain": [
              "<_sre.SRE_Match object; span=(0, 2), match='ab'>"
            ]
          },
          "metadata": {
            "tags": []
          },
          "execution_count": 3
        }
      ]
    },
    {
      "cell_type": "markdown",
      "metadata": {
        "id": "ecrWU1FYya3o",
        "colab_type": "text"
      },
      "source": [
        "## `match` returns `None` when there is no match"
      ]
    },
    {
      "cell_type": "code",
      "metadata": {
        "id": "LgIgTXLzya3q",
        "colab_type": "code",
        "colab": {}
      },
      "source": [
        "m2 = regex.match('acb')\n",
        "m2"
      ],
      "execution_count": 4,
      "outputs": []
    },
    {
      "cell_type": "code",
      "metadata": {
        "id": "kkvNpK0Tya3v",
        "colab_type": "code",
        "colab": {
          "base_uri": "https://localhost:8080/",
          "height": 34
        },
        "outputId": "1b00677c-4ab2-4a1c-8a97-e2d75fc7ecc2"
      },
      "source": [
        "m2 is None"
      ],
      "execution_count": 5,
      "outputs": [
        {
          "output_type": "execute_result",
          "data": {
            "text/plain": [
              "True"
            ]
          },
          "metadata": {
            "tags": []
          },
          "execution_count": 5
        }
      ]
    },
    {
      "cell_type": "code",
      "metadata": {
        "id": "J_SLqEGhya32",
        "colab_type": "code",
        "colab": {
          "base_uri": "https://localhost:8080/",
          "height": 34
        },
        "outputId": "975506f2-5a55-4d37-fa26-c7efece21804"
      },
      "source": [
        "not m2 "
      ],
      "execution_count": 6,
      "outputs": [
        {
          "output_type": "execute_result",
          "data": {
            "text/plain": [
              "True"
            ]
          },
          "metadata": {
            "tags": []
          },
          "execution_count": 6
        }
      ]
    },
    {
      "cell_type": "markdown",
      "metadata": {
        "id": "vMgWez8Sya39",
        "colab_type": "text"
      },
      "source": [
        "## The result of a match can be used in Boolean expressions"
      ]
    },
    {
      "cell_type": "code",
      "metadata": {
        "id": "rovjvalgya3-",
        "colab_type": "code",
        "colab": {
          "base_uri": "https://localhost:8080/",
          "height": 35
        },
        "outputId": "a0cd3413-01d5-4155-cee3-5bfa23988848"
      },
      "source": [
        "\"Yes\" if m1 else \"No\""
      ],
      "execution_count": 7,
      "outputs": [
        {
          "output_type": "execute_result",
          "data": {
            "application/vnd.google.colaboratory.intrinsic+json": {
              "type": "string"
            },
            "text/plain": [
              "'Yes'"
            ]
          },
          "metadata": {
            "tags": []
          },
          "execution_count": 7
        }
      ]
    },
    {
      "cell_type": "code",
      "metadata": {
        "id": "7HHbsW9kya4D",
        "colab_type": "code",
        "colab": {
          "base_uri": "https://localhost:8080/",
          "height": 35
        },
        "outputId": "37c200c3-6b60-4186-e81f-8b4f0130655a"
      },
      "source": [
        "\"Yes\" if m2 else \"No\""
      ],
      "execution_count": 8,
      "outputs": [
        {
          "output_type": "execute_result",
          "data": {
            "application/vnd.google.colaboratory.intrinsic+json": {
              "type": "string"
            },
            "text/plain": [
              "'No'"
            ]
          },
          "metadata": {
            "tags": []
          },
          "execution_count": 8
        }
      ]
    },
    {
      "cell_type": "markdown",
      "metadata": {
        "id": "K2qMlzxpya4K",
        "colab_type": "text"
      },
      "source": [
        "## <font color=\"red\"> Exercise 4 </font>\n",
        "\n",
        "**Tasks:** Make sure your pattern from <font color=\"red\"> Exercise 3</font> passes the following `assert` statements."
      ]
    },
    {
      "cell_type": "code",
      "metadata": {
        "id": "kl7bphXyya4L",
        "colab_type": "code",
        "colab": {}
      },
      "source": [
        "pattern1 = \"abc\"\n",
        "my_regex = re.compile(pattern1)\n",
        "assert my_regex.match('abcdefg')\n",
        "assert my_regex.match('abcde')\n",
        "assert my_regex.match('abc')\n",
        "assert not my_regex.match('acb')"
      ],
      "execution_count": 29,
      "outputs": []
    },
    {
      "cell_type": "markdown",
      "metadata": {
        "id": "Le7JK_lSya4P",
        "colab_type": "text"
      },
      "source": [
        "## Whitespace and escaped characters\n",
        "\n",
        "* Whitespace includes spaces, tabs, and newlines\n",
        "* Python uses escape characters: `\"\\t\"`, `\"\\n\"`"
      ]
    },
    {
      "cell_type": "markdown",
      "metadata": {
        "id": "dylQ7abYya4Q",
        "colab_type": "text"
      },
      "source": [
        "#### Use `\"\\n\"` for newlines"
      ]
    },
    {
      "cell_type": "code",
      "metadata": {
        "id": "iw9CZ-n7ya4S",
        "colab_type": "code",
        "colab": {
          "base_uri": "https://localhost:8080/",
          "height": 35
        },
        "outputId": "15815918-e95a-456d-c001-fbd70febb15a"
      },
      "source": [
        "\"\\n\""
      ],
      "execution_count": 10,
      "outputs": [
        {
          "output_type": "execute_result",
          "data": {
            "application/vnd.google.colaboratory.intrinsic+json": {
              "type": "string"
            },
            "text/plain": [
              "'\\n'"
            ]
          },
          "metadata": {
            "tags": []
          },
          "execution_count": 10
        }
      ]
    },
    {
      "cell_type": "code",
      "metadata": {
        "id": "m1uvcMnDya4Y",
        "colab_type": "code",
        "colab": {
          "base_uri": "https://localhost:8080/",
          "height": 51
        },
        "outputId": "ac86318f-b77b-4bfa-e622-3c81c36caacb"
      },
      "source": [
        "print('\\n')"
      ],
      "execution_count": 11,
      "outputs": [
        {
          "output_type": "stream",
          "text": [
            "\n",
            "\n"
          ],
          "name": "stdout"
        }
      ]
    },
    {
      "cell_type": "code",
      "metadata": {
        "id": "YecoL2wVya4e",
        "colab_type": "code",
        "colab": {
          "base_uri": "https://localhost:8080/",
          "height": 51
        },
        "outputId": "b823e8d1-cb33-420c-9b8d-3e0d4db9cb7d"
      },
      "source": [
        "print('a\\nb')"
      ],
      "execution_count": 12,
      "outputs": [
        {
          "output_type": "stream",
          "text": [
            "a\n",
            "b\n"
          ],
          "name": "stdout"
        }
      ]
    },
    {
      "cell_type": "markdown",
      "metadata": {
        "id": "lsmVvzKiya4j",
        "colab_type": "text"
      },
      "source": [
        "#### Use `\"\\t\"` for tab"
      ]
    },
    {
      "cell_type": "code",
      "metadata": {
        "id": "hrbZzQvkya4l",
        "colab_type": "code",
        "colab": {
          "base_uri": "https://localhost:8080/",
          "height": 35
        },
        "outputId": "e9271c2f-1c71-4ac5-abe9-210ec2b88f93"
      },
      "source": [
        "\"\\t\""
      ],
      "execution_count": 13,
      "outputs": [
        {
          "output_type": "execute_result",
          "data": {
            "application/vnd.google.colaboratory.intrinsic+json": {
              "type": "string"
            },
            "text/plain": [
              "'\\t'"
            ]
          },
          "metadata": {
            "tags": []
          },
          "execution_count": 13
        }
      ]
    },
    {
      "cell_type": "code",
      "metadata": {
        "id": "m5dPNbReya4p",
        "colab_type": "code",
        "colab": {
          "base_uri": "https://localhost:8080/",
          "height": 34
        },
        "outputId": "03345897-4b2f-468a-ff91-1d8f1388531d"
      },
      "source": [
        "print('\\t')"
      ],
      "execution_count": 14,
      "outputs": [
        {
          "output_type": "stream",
          "text": [
            "\t\n"
          ],
          "name": "stdout"
        }
      ]
    },
    {
      "cell_type": "code",
      "metadata": {
        "id": "oxq-8oCDya4u",
        "colab_type": "code",
        "colab": {
          "base_uri": "https://localhost:8080/",
          "height": 34
        },
        "outputId": "f5429925-fdd1-4f11-bf09-b4aa08e5609b"
      },
      "source": [
        "print('a\\tb')"
      ],
      "execution_count": 16,
      "outputs": [
        {
          "output_type": "stream",
          "text": [
            "a\tb\n"
          ],
          "name": "stdout"
        }
      ]
    },
    {
      "cell_type": "markdown",
      "metadata": {
        "id": "8RiaML4Hya43",
        "colab_type": "text"
      },
      "source": [
        "## Why use `r\"raw strings\"` in `regex`\n",
        "\n",
        "* Regular strings $\\rightarrow$ `\\` is for special characters: `'\\n'`, `'\\t'`\n",
        "* In regular expressions, `\\` is for\n",
        "    * Escaping: i.e. `\\.` vs. `.`\n",
        "* Without raw string, we would need \n",
        "    * `'\\\\n'`  to match a new line\n",
        "    * `'\\\\t'` to match a tab"
      ]
    },
    {
      "cell_type": "code",
      "metadata": {
        "id": "f9nMNAQuya44",
        "colab_type": "code",
        "colab": {
          "base_uri": "https://localhost:8080/",
          "height": 35
        },
        "outputId": "8a1a8bc9-cec9-4fcf-c2e2-4cd971a14f42"
      },
      "source": [
        "r\"\\n\" # Raw string allow us to match newlines without the extra \\"
      ],
      "execution_count": 17,
      "outputs": [
        {
          "output_type": "execute_result",
          "data": {
            "application/vnd.google.colaboratory.intrinsic+json": {
              "type": "string"
            },
            "text/plain": [
              "'\\\\n'"
            ]
          },
          "metadata": {
            "tags": []
          },
          "execution_count": 17
        }
      ]
    },
    {
      "cell_type": "markdown",
      "metadata": {
        "id": "gO3MTUJfya49",
        "colab_type": "text"
      },
      "source": [
        "## Important `match object` methods\n",
        "\n",
        "<table class=\"docutils\" border=\"1\">\n",
        "<colgroup>\n",
        "<col width=\"29%\">\n",
        "<col width=\"71%\">\n",
        "</colgroup>\n",
        "<thead valign=\"bottom\">\n",
        "<tr class=\"row-odd\"><th class=\"head\">Method/Attribute</th>\n",
        "<th class=\"head\">Purpose</th>\n",
        "</tr>\n",
        "</thead>\n",
        "<tbody valign=\"top\">\n",
        "<tr class=\"row-even\"><td><code class=\"docutils literal notranslate\"><span class=\"pre\">group()</span></code></td>\n",
        "<td>Return the string matched by the RE</td>\n",
        "</tr>\n",
        "<tr class=\"row-odd\"><td><code class=\"docutils literal notranslate\"><span class=\"pre\">start()</span></code></td>\n",
        "<td>Return the starting position of the match</td>\n",
        "</tr>\n",
        "<tr class=\"row-even\"><td><code class=\"docutils literal notranslate\"><span class=\"pre\">end()</span></code></td>\n",
        "<td>Return the ending position of the match</td>\n",
        "</tr>\n",
        "<tr class=\"row-odd\"><td><code class=\"docutils literal notranslate\"><span class=\"pre\">span()</span></code></td>\n",
        "<td>Return a tuple containing the (start, end)\n",
        "positions  of the match</td>\n",
        "</tr>\n",
        "</tbody>\n",
        "</table>"
      ]
    },
    {
      "cell_type": "code",
      "metadata": {
        "id": "vEt2afRNya4-",
        "colab_type": "code",
        "colab": {
          "base_uri": "https://localhost:8080/",
          "height": 35
        },
        "outputId": "a50fcf1c-6fcc-491e-80d7-f05cff040647"
      },
      "source": [
        "m1.group()"
      ],
      "execution_count": 18,
      "outputs": [
        {
          "output_type": "execute_result",
          "data": {
            "application/vnd.google.colaboratory.intrinsic+json": {
              "type": "string"
            },
            "text/plain": [
              "'ab'"
            ]
          },
          "metadata": {
            "tags": []
          },
          "execution_count": 18
        }
      ]
    },
    {
      "cell_type": "code",
      "metadata": {
        "id": "KCGlACQUya5C",
        "colab_type": "code",
        "colab": {
          "base_uri": "https://localhost:8080/",
          "height": 34
        },
        "outputId": "0a5c5add-9308-4cd1-bca6-17a122608062"
      },
      "source": [
        "m1.start(), m1.end()"
      ],
      "execution_count": 20,
      "outputs": [
        {
          "output_type": "execute_result",
          "data": {
            "text/plain": [
              "(0, 2)"
            ]
          },
          "metadata": {
            "tags": []
          },
          "execution_count": 20
        }
      ]
    },
    {
      "cell_type": "code",
      "metadata": {
        "id": "RVltPgTGya5G",
        "colab_type": "code",
        "colab": {
          "base_uri": "https://localhost:8080/",
          "height": 34
        },
        "outputId": "9162e70c-626a-4704-815b-e1c6a99fd53c"
      },
      "source": [
        "m1.span()"
      ],
      "execution_count": 21,
      "outputs": [
        {
          "output_type": "execute_result",
          "data": {
            "text/plain": [
              "(0, 2)"
            ]
          },
          "metadata": {
            "tags": []
          },
          "execution_count": 21
        }
      ]
    },
    {
      "cell_type": "markdown",
      "metadata": {
        "id": "mIbnVqFAya5O",
        "colab_type": "text"
      },
      "source": [
        "## Be sure to check for `None`"
      ]
    },
    {
      "cell_type": "code",
      "metadata": {
        "id": "_1W5kr-wya5P",
        "colab_type": "code",
        "colab": {}
      },
      "source": [
        "m2 # example that DIDN'T match "
      ],
      "execution_count": 22,
      "outputs": []
    },
    {
      "cell_type": "code",
      "metadata": {
        "id": "aKrBtoh9ya5T",
        "colab_type": "code",
        "colab": {
          "base_uri": "https://localhost:8080/",
          "height": 34
        },
        "outputId": "bd7f0886-d2ba-422f-9629-0454b172cdc6"
      },
      "source": [
        "m2 is None # non-matches return None"
      ],
      "execution_count": 23,
      "outputs": [
        {
          "output_type": "execute_result",
          "data": {
            "text/plain": [
              "True"
            ]
          },
          "metadata": {
            "tags": []
          },
          "execution_count": 23
        }
      ]
    },
    {
      "cell_type": "code",
      "metadata": {
        "id": "u-BHLyNJya5Y",
        "colab_type": "code",
        "colab": {
          "base_uri": "https://localhost:8080/",
          "height": 163
        },
        "outputId": "6d93db3b-ecca-47d5-8118-360f6b6a1cac"
      },
      "source": [
        "m2.group() # Oh you silly 'Nonetype' errors"
      ],
      "execution_count": 24,
      "outputs": [
        {
          "output_type": "error",
          "ename": "AttributeError",
          "evalue": "ignored",
          "traceback": [
            "\u001b[0;31m---------------------------------------------------------------------------\u001b[0m",
            "\u001b[0;31mAttributeError\u001b[0m                            Traceback (most recent call last)",
            "\u001b[0;32m<ipython-input-24-0951bace4a25>\u001b[0m in \u001b[0;36m<module>\u001b[0;34m()\u001b[0m\n\u001b[0;32m----> 1\u001b[0;31m \u001b[0mm2\u001b[0m\u001b[0;34m.\u001b[0m\u001b[0mgroup\u001b[0m\u001b[0;34m(\u001b[0m\u001b[0;34m)\u001b[0m \u001b[0;31m# Oh you silly 'Nonetype' errors\u001b[0m\u001b[0;34m\u001b[0m\u001b[0;34m\u001b[0m\u001b[0m\n\u001b[0m",
            "\u001b[0;31mAttributeError\u001b[0m: 'NoneType' object has no attribute 'group'"
          ]
        }
      ]
    },
    {
      "cell_type": "markdown",
      "metadata": {
        "id": "Pw8Xkzgjya5c",
        "colab_type": "text"
      },
      "source": [
        "## Solution 1\n",
        "\n",
        "Always check for `None`"
      ]
    },
    {
      "cell_type": "code",
      "metadata": {
        "id": "Lgl_S0Fhya5d",
        "colab_type": "code",
        "colab": {}
      },
      "source": [
        "m2.group() if m2 else None"
      ],
      "execution_count": 25,
      "outputs": []
    },
    {
      "cell_type": "markdown",
      "metadata": {
        "id": "u9lgzon6ya5g",
        "colab_type": "text"
      },
      "source": [
        "## Solution 2\n",
        "\n",
        "Learn about the [`Maybe` monad](https://en.wikipedia.org/wiki/Monad_(functional_programming)#An_example:_Maybe). (We will tackle this in a later chapter.)"
      ]
    },
    {
      "cell_type": "markdown",
      "metadata": {
        "id": "R144OWBPya5h",
        "colab_type": "text"
      },
      "source": [
        "## Python regex methods\n",
        "\n",
        "<table class=\"docutils\" border=\"1\">\n",
        "<colgroup>\n",
        "<col width=\"28%\">\n",
        "<col width=\"72%\">\n",
        "</colgroup>\n",
        "<thead valign=\"bottom\">\n",
        "<tr class=\"row-odd\"><th class=\"head\">Method/Attribute</th>\n",
        "<th class=\"head\">Purpose</th>\n",
        "</tr>\n",
        "</thead>\n",
        "<tbody valign=\"top\">\n",
        "<tr class=\"row-even\"><td><code class=\"docutils literal notranslate\"><span class=\"pre\">match()</span></code></td>\n",
        "<td>Determine if the RE matches at the beginning\n",
        "of the string.</td>\n",
        "</tr>\n",
        "<tr class=\"row-odd\"><td><code class=\"docutils literal notranslate\"><span class=\"pre\">search()</span></code></td>\n",
        "<td>Scan through a string, looking for any\n",
        "location where this RE matches.</td>\n",
        "</tr>\n",
        "<tr class=\"row-even\"><td><code class=\"docutils literal notranslate\"><span class=\"pre\">findall()</span></code></td>\n",
        "<td>Find all substrings where the RE matches, and\n",
        "returns them as a list.</td>\n",
        "</tr>\n",
        "<tr class=\"row-odd\"><td><code class=\"docutils literal notranslate\"><span class=\"pre\">finditer()</span></code></td>\n",
        "<td>Find all substrings where the RE matches, and\n",
        "returns them as an <a class=\"reference internal\" href=\"../glossary.html#term-iterator\"><span class=\"xref std std-term\">iterator</span></a>.</td>\n",
        "</tr>\n",
        "</tbody>\n",
        "</table>\n",
        "\n",
        "**Source:** [Python documentation](https://docs.python.org/3/howto/regex.html)"
      ]
    },
    {
      "cell_type": "markdown",
      "metadata": {
        "id": "VjqjlTHSya5h",
        "colab_type": "text"
      },
      "source": [
        "## A better `str.replace`\n",
        "\n",
        "* Often chain many `replace` calls\n",
        "* Example `s.replace('(', '').replace(')','').replace(':', '')`\n",
        "* We can use `re.sub` to simplify."
      ]
    },
    {
      "cell_type": "code",
      "metadata": {
        "id": "q4P7nrKhya5i",
        "colab_type": "code",
        "colab": {
          "base_uri": "https://localhost:8080/",
          "height": 35
        },
        "outputId": "032d4a16-c7a5-49b4-d400-ceb94675cd99"
      },
      "source": [
        "s = \"The string (has) some: things in (it)\"\n",
        "s.replace('(', '').replace(')','').replace(':', '')"
      ],
      "execution_count": 26,
      "outputs": [
        {
          "output_type": "execute_result",
          "data": {
            "application/vnd.google.colaboratory.intrinsic+json": {
              "type": "string"
            },
            "text/plain": [
              "'The string has some things in it'"
            ]
          },
          "metadata": {
            "tags": []
          },
          "execution_count": 26
        }
      ]
    },
    {
      "cell_type": "code",
      "metadata": {
        "id": "YvzqUKzhya5m",
        "colab_type": "code",
        "colab": {
          "base_uri": "https://localhost:8080/",
          "height": 35
        },
        "outputId": "b14c6f1b-eb06-4122-92a1-ffbd61a34b0b"
      },
      "source": [
        "re.sub(r\"[():]\", '', s)"
      ],
      "execution_count": 27,
      "outputs": [
        {
          "output_type": "execute_result",
          "data": {
            "application/vnd.google.colaboratory.intrinsic+json": {
              "type": "string"
            },
            "text/plain": [
              "'The string has some things in it'"
            ]
          },
          "metadata": {
            "tags": []
          },
          "execution_count": 27
        }
      ]
    },
    {
      "cell_type": "markdown",
      "metadata": {
        "id": "3TSDh9l1ya5q",
        "colab_type": "text"
      },
      "source": [
        "## Substitutions with a compiled RegEx\n",
        "\n",
        "1. Compile a pattern\n",
        "2. Use `pat.sub(new_substr, s)`"
      ]
    },
    {
      "cell_type": "code",
      "metadata": {
        "id": "uGyAtYqmya5r",
        "colab_type": "code",
        "colab": {
          "base_uri": "https://localhost:8080/",
          "height": 35
        },
        "outputId": "f70f9f02-8787-45f2-f701-3099aec33307"
      },
      "source": [
        "paren_or_colon = re.compile(r\"[():]\")\n",
        "paren_or_colon.sub('', s)"
      ],
      "execution_count": 28,
      "outputs": [
        {
          "output_type": "execute_result",
          "data": {
            "application/vnd.google.colaboratory.intrinsic+json": {
              "type": "string"
            },
            "text/plain": [
              "'The string has some things in it'"
            ]
          },
          "metadata": {
            "tags": []
          },
          "execution_count": 28
        }
      ]
    },
    {
      "cell_type": "markdown",
      "metadata": {
        "id": "b6GbN1D1ya5y",
        "colab_type": "text"
      },
      "source": [
        "## <font color=\"red\"> Exercise 4 </font>\n",
        "\n",
        "**Task:** Write and test a function that uses `re.sub` to remove all punctuation from a string.  **Hint:** Use the `punctuation` variable from the `string` module."
      ]
    },
    {
      "cell_type": "code",
      "metadata": {
        "id": "HrZMZRsqya5z",
        "colab_type": "code",
        "colab": {}
      },
      "source": [
        ""
      ],
      "execution_count": null,
      "outputs": []
    },
    {
      "cell_type": "markdown",
      "metadata": {
        "id": "LGo3eh4jya53",
        "colab_type": "text"
      },
      "source": [
        "## Next Up\n",
        "\n",
        "Now you should read through the rest of [RegExOne](https://regexone.com/) and put your work in [Lab 3](./lab_3_regexone.ipynb)."
      ]
    }
  ]
}