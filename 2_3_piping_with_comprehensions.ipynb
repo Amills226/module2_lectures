{
 "cells": [
  {
   "cell_type": "markdown",
   "metadata": {
    "slideshow": {
     "slide_type": "slide"
    }
   },
   "source": [
    "# Piping and List Comprehensions\n",
    "\n",
    "## Objectives\n",
    "\n",
    "1. Identify and use the basic structures of combinind list comprehensions and piping\n",
    "2. Learn about composing list comprehension lambdas"
   ]
  },
  {
   "cell_type": "markdown",
   "metadata": {
    "collapsed": true,
    "slideshow": {
     "slide_type": "slide"
    }
   },
   "source": [
    "## List Comprehension\n",
    "\n",
    "* Expression for constructing list\n",
    "* Returns a new list\n",
    "* Reads like math\n",
    "    * Set builder notation"
   ]
  },
  {
   "cell_type": "code",
   "execution_count": 1,
   "metadata": {
    "slideshow": {
     "slide_type": "fragment"
    }
   },
   "outputs": [
    {
     "data": {
      "text/plain": [
       "[1, 4, 9, 16, 25]"
      ]
     },
     "execution_count": 1,
     "metadata": {},
     "output_type": "execute_result"
    }
   ],
   "source": [
    "mylist = [1,2,3,4,5]\n",
    "yourlist = [item ** 2 for item in mylist]\n",
    "yourlist"
   ]
  },
  {
   "cell_type": "markdown",
   "metadata": {
    "slideshow": {
     "slide_type": "slide"
    }
   },
   "source": [
    "## Pipeable functions with comprehensions\n",
    "\n",
    "\n",
    "    \n",
    "<img src=\"./img/pipe_and_list_comp.png\" width=600>"
   ]
  },
  {
   "cell_type": "markdown",
   "metadata": {
    "slideshow": {
     "slide_type": "slide"
    }
   },
   "source": [
    "## Splitting and processing string\n",
    "\n",
    "* Use `split` to cut a string into a list of strings\n",
    "* Use a comprehension to process the list."
   ]
  },
  {
   "cell_type": "code",
   "execution_count": 9,
   "metadata": {
    "slideshow": {
     "slide_type": "slide"
    }
   },
   "outputs": [
    {
     "data": {
      "text/plain": [
       "3.875"
      ]
     },
     "execution_count": 9,
     "metadata": {},
     "output_type": "execute_result"
    }
   ],
   "source": [
    "quote = \"Don't judge each day by the harvest you reap but by the seeds that you plant.\"\n",
    "words = quote.split(\" \")\n",
    "lengths =  [len(word) for word in words]\n",
    "mean = sum(lengths)/len(lengths)\n",
    "mean"
   ]
  },
  {
   "cell_type": "code",
   "execution_count": 10,
   "metadata": {},
   "outputs": [],
   "source": [
    "from composable import pipeable"
   ]
  },
  {
   "cell_type": "code",
   "execution_count": 12,
   "metadata": {},
   "outputs": [],
   "source": [
    "split = pipeable(lambda sep, s: s.split(sep))\n",
    "word_lengths = pipeable(lambda L: [len(word) for word in L])\n",
    "mean = pipeable(lambda L: sum(L)/len(L))"
   ]
  },
  {
   "cell_type": "code",
   "execution_count": 13,
   "metadata": {},
   "outputs": [
    {
     "data": {
      "text/plain": [
       "3.875"
      ]
     },
     "execution_count": 13,
     "metadata": {},
     "output_type": "execute_result"
    }
   ],
   "source": [
    "(quote\n",
    " >> split(\" \")\n",
    " >> word_lengths\n",
    " >> mean\n",
    ")"
   ]
  },
  {
   "cell_type": "markdown",
   "metadata": {
    "slideshow": {
     "slide_type": "slide"
    }
   },
   "source": [
    "### <font color='red'> Exercise 1 </font>\n",
    "\n",
    "Use a pipe to take a quote, split it into words, and then grab the last two letter of each word.  **Hint:** Use the slice operation!  Package this process in a function called `first_two_char` and including appropriate doc string and text function."
   ]
  },
  {
   "cell_type": "code",
   "execution_count": null,
   "metadata": {
    "slideshow": {
     "slide_type": "fragment"
    }
   },
   "outputs": [],
   "source": []
  },
  {
   "cell_type": "markdown",
   "metadata": {
    "slideshow": {
     "slide_type": "slide"
    }
   },
   "source": [
    "### <font color='red'> Exercise 2 </font>\n",
    "\n",
    "Notice that period at the end of the sentence.  It is probably safest to remove punctuation like periods, questions marks, and exclamation points.  Add a step to the pipe to remove these characters."
   ]
  },
  {
   "cell_type": "code",
   "execution_count": null,
   "metadata": {
    "slideshow": {
     "slide_type": "fragment"
    }
   },
   "outputs": [],
   "source": []
  },
  {
   "cell_type": "markdown",
   "metadata": {},
   "source": [
    "## (Ab)Using tuples in sequence processing.\n",
    "\n",
    "* Sometimes it is useful to hold mulitple pieces of information at once.\n",
    "    * Example *Keep all of the even length words* needs both length and the words themselves.\n",
    "* In this case we will use a list of tuples to aid the computation."
   ]
  },
  {
   "cell_type": "markdown",
   "metadata": {},
   "source": [
    "## Example: Take a quote and only keep the even length word."
   ]
  },
  {
   "cell_type": "markdown",
   "metadata": {},
   "source": [
    "#### Step 1 -- Get both words and lengths"
   ]
  },
  {
   "cell_type": "code",
   "execution_count": 21,
   "metadata": {},
   "outputs": [],
   "source": [
    "lengths_and_words = pipeable(lambda L: [(w, len(w)) for w in L ])\n",
    "take = pipeable(lambda num, L: L[:num])"
   ]
  },
  {
   "cell_type": "code",
   "execution_count": 25,
   "metadata": {},
   "outputs": [
    {
     "data": {
      "text/plain": [
       "[(\"Don't\", 5), ('judge', 5)]"
      ]
     },
     "execution_count": 25,
     "metadata": {},
     "output_type": "execute_result"
    }
   ],
   "source": [
    "(quote\n",
    " >> split(\" \")\n",
    " >> lengths_and_words\n",
    " >> take(2)\n",
    ")"
   ]
  },
  {
   "cell_type": "markdown",
   "metadata": {},
   "source": [
    "#### Step 2 -- Filter based on length"
   ]
  },
  {
   "cell_type": "code",
   "execution_count": 27,
   "metadata": {},
   "outputs": [],
   "source": [
    "is_even = lambda num: num % 2 == 0\n",
    "keep_even_lengths = pipeable(lambda tups: [w for w, length in tups if is_even(length)])"
   ]
  },
  {
   "cell_type": "code",
   "execution_count": 30,
   "metadata": {},
   "outputs": [
    {
     "data": {
      "text/plain": [
       "['each', 'by', 'reap', 'by', 'that', 'plant.']"
      ]
     },
     "execution_count": 30,
     "metadata": {},
     "output_type": "execute_result"
    }
   ],
   "source": [
    "(quote\n",
    " >> split(\" \")\n",
    " >> lengths_and_words\n",
    " >> keep_even_lengths\n",
    ")"
   ]
  },
  {
   "cell_type": "markdown",
   "metadata": {},
   "source": [
    "## <font color=\"red\"> TODO Add a image of what is happening here </font>"
   ]
  },
  {
   "cell_type": "markdown",
   "metadata": {
    "slideshow": {
     "slide_type": "slide"
    }
   },
   "source": [
    "### <font color='red'> Exercise 3 </font>\n",
    "\n",
    "Use a pipe to take a quote, split it into words, and then keeps all words that have at least 4 characters.  **Hint:** Use the `lengths_and_words` function! Package this process in a function called `at_least_4_char` and including appropriate doc string and text function."
   ]
  },
  {
   "cell_type": "code",
   "execution_count": null,
   "metadata": {
    "slideshow": {
     "slide_type": "fragment"
    }
   },
   "outputs": [],
   "source": []
  },
  {
   "cell_type": "markdown",
   "metadata": {},
   "source": [
    "<h2> <font color=\"red\"> TODO Add a section on refactoring compositions of comprehensions </font>"
   ]
  }
 ],
 "metadata": {
  "anaconda-cloud": {},
  "kernelspec": {
   "display_name": "Python 3",
   "language": "python",
   "name": "python3"
  },
  "language_info": {
   "codemirror_mode": {
    "name": "ipython",
    "version": 3
   },
   "file_extension": ".py",
   "mimetype": "text/x-python",
   "name": "python",
   "nbconvert_exporter": "python",
   "pygments_lexer": "ipython3",
   "version": "3.7.2"
  }
 },
 "nbformat": 4,
 "nbformat_minor": 1
}
